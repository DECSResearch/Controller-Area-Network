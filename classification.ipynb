{
  "cells": [
    {
      "cell_type": "code",
      "execution_count": null,
      "metadata": {
        "colab": {
          "base_uri": "https://localhost:8080/"
        },
        "id": "BgVOP6QlKD2q",
        "outputId": "3f64ecf6-cef1-4fb7-d503-48c8ce42ec1e"
      },
      "outputs": [
        {
          "output_type": "stream",
          "name": "stdout",
          "text": [
            "Drive already mounted at /content/gdrive; to attempt to forcibly remount, call drive.mount(\"/content/gdrive\", force_remount=True).\n",
            "/content/gdrive/My Drive\n"
          ]
        }
      ],
      "source": [
        "#Required packages\n",
        "import pandas as pd\n",
        "from pathlib import Path\n",
        "import matplotlib.pyplot as plt\n",
        "from matplotlib.pyplot import figure\n",
        "import numpy as np\n",
        "from sklearn.model_selection import train_test_split\n",
        "from sklearn.naive_bayes import GaussianNB, BernoulliNB\n",
        "from sklearn.tree import DecisionTreeClassifier\n",
        "from sklearn import tree\n",
        "from sklearn.metrics import plot_confusion_matrix, confusion_matrix, accuracy_score, matthews_corrcoef\n",
        "from sklearn.neighbors import KNeighborsClassifier\n",
        "import seaborn as sns\n",
        "import statistics as stat\n",
        "from sklearn.preprocessing import MinMaxScaler\n",
        "from subprocess import call\n",
        "import seaborn as sns\n",
        "from sklearn.utils import shuffle\n",
        "import time\n",
        "from google.colab import drive\n",
        "\n",
        "drive.mount('/content/gdrive')\n",
        "%cd '/content/gdrive/My Drive/'"
      ]
    },
    {
      "cell_type": "markdown",
      "metadata": {
        "id": "tVuhGgbEVTSv"
      },
      "source": [
        "# Read Dataset - Loading Your Dataset"
      ]
    },
    {
      "cell_type": "code",
      "execution_count": null,
      "metadata": {
        "id": "4qA4IC6YPEBJ"
      },
      "outputs": [],
      "source": [
        "#MODIFY your path to dataset\n",
        "\n",
        "dataset = pd.read_csv(filepath_or_buffer='dataset.csv') \n",
        "dataset.drop('Unnamed: 0', axis = 1, inplace=True)\n",
        "\n",
        "#dropping any not-a-number values\n",
        "dataset.dropna(subset=['DataSize'], inplace=True)"
      ]
    },
    {
      "cell_type": "code",
      "execution_count": null,
      "metadata": {
        "colab": {
          "base_uri": "https://localhost:8080/"
        },
        "id": "B_qYiAxjIuIn",
        "outputId": "a63a6247-8ae6-4dce-87a3-b4eefe6a2e12"
      },
      "outputs": [
        {
          "output_type": "stream",
          "name": "stdout",
          "text": [
            "Samples of Class 0: 173433\n",
            "Samples of Class 1: 346785\n",
            "Samples of Class 2: 346918\n",
            "Samples of Class 3: 677763\n",
            "Samples of Class 4: 72296\n",
            "Samples of Class 5: 8351625\n"
          ]
        }
      ],
      "source": [
        "#Counting the samples in your dataset\n",
        "\n",
        "count0 = dataset[dataset['Function'] == 0].shape[0]\n",
        "count1 = dataset[dataset['Function'] == 1].shape[0]\n",
        "count2 = dataset[dataset['Function'] == 2].shape[0]\n",
        "count3 = dataset[dataset['Function'] == 3].shape[0]\n",
        "count4 = dataset[dataset['Function'] == 4].shape[0]\n",
        "count5 = dataset[dataset['Function'] == 5].shape[0]\n",
        "\n",
        "print(\"Samples of Class 0: {}\".format(count0))  #Class 0 = Brake Light\n",
        "print(\"Samples of Class 1: {}\".format(count1))  #Class 1 = Steering Angle\n",
        "print(\"Samples of Class 2: {}\".format(count2))  #Class 2 = Vehicle Speed\n",
        "print(\"Samples of Class 3: {}\".format(count3))  #Class 3 = Tachometer\n",
        "print(\"Samples of Class 4: {}\".format(count4))  #Class 4 = Lights\n",
        "print(\"Samples of Class 5: {}\".format(count5))  #Class 5 = Unidentified ECUs"
      ]
    },
    {
      "cell_type": "markdown",
      "metadata": {
        "id": "xIHjBVskIuIp"
      },
      "source": [
        "# Sampling the Dataset - What Inputs Am I Feeding My Machine Learning Models?"
      ]
    },
    {
      "cell_type": "code",
      "execution_count": null,
      "metadata": {
        "colab": {
          "base_uri": "https://localhost:8080/",
          "height": 678
        },
        "id": "gqmH3I-vIuIq",
        "outputId": "95065901-e1cf-4c94-83a3-099372589282"
      },
      "outputs": [
        {
          "output_type": "stream",
          "name": "stderr",
          "text": [
            "/usr/local/lib/python3.7/dist-packages/seaborn/_decorators.py:43: FutureWarning: Pass the following variable as a keyword arg: x. From version 0.12, the only valid positional argument will be `data`, and passing other arguments without an explicit keyword will result in an error or misinterpretation.\n",
            "  FutureWarning\n"
          ]
        },
        {
          "output_type": "display_data",
          "data": {
            "image/png": "[encoded data removed]",
            "text/plain": [
              "<Figure size 1080x720 with 1 Axes>"
            ]
          },
          "metadata": {
            "needs_background": "light"
          }
        }
      ],
      "source": [
        "plt.rcParams['figure.figsize'] = [15, 10]\n",
        "\n",
        "# Shuffle the Dataset.\n",
        "shuffled_dataset = dataset.sample(frac=1,random_state=1)\n",
        "\n",
        "# Put all the majority class samples in a separate dataset.\n",
        "majorityclass_dataset = shuffled_dataset.loc[shuffled_dataset['Function'] == 5].sample(n=30000, random_state=42)\n",
        "\n",
        "# Randomly select observations from the minority classes\n",
        "minorityclass0_dataset = shuffled_dataset.loc[shuffled_dataset['Function'] == 0].sample(n=30000,random_state=42)\n",
        "minorityclass1_dataset = shuffled_dataset.loc[shuffled_dataset['Function'] == 1].sample(n=30000,random_state=42)\n",
        "minorityclass2_dataset = shuffled_dataset.loc[shuffled_dataset['Function'] == 2].sample(n=30000,random_state=42)\n",
        "minorityclass3_dataset = shuffled_dataset.loc[shuffled_dataset['Function'] == 3].sample(n=30000,random_state=42)\n",
        "minorityclass4_dataset = shuffled_dataset.loc[shuffled_dataset['Function'] == 4].sample(n=30000,random_state=42)\n",
        "\n",
        "# Concatenate both dataframes again to obtain a single dataset\n",
        "dataset_balanced = pd.concat([majorityclass_dataset, minorityclass0_dataset, minorityclass1_dataset, minorityclass2_dataset, minorityclass3_dataset, minorityclass4_dataset])\n",
        "\n",
        "# Plot the dataset after the undersampling\n",
        "sns.countplot('Function', data=dataset_balanced)\n",
        "plt.title('Class Sizes based on Number of Samples')\n",
        "plt.xlabel('Class')\n",
        "plt.ylabel('Samples')\n",
        "plt.show()\n",
        "\n",
        "#Renaming the columns\n",
        "column_labels = [\"ModTime\", \"DataSize\", \"ModData\", \"ModID\", \"Function\"]\n",
        "dataset_balanced = dataset_balanced.reindex(columns=column_labels)"
      ]
    },
    {
      "cell_type": "code",
      "source": [
        "dataset_balanced.head()"
      ],
      "metadata": {
        "colab": {
          "base_uri": "https://localhost:8080/",
          "height": 206
        },
        "id": "A8X8keOBRlU1",
        "outputId": "fcc46a01-d0dc-46e2-bb6c-a545af75707e"
      },
      "execution_count": null,
      "outputs": [
        {
          "output_type": "execute_result",
          "data": {
            "text/html": [
              "\n",
              "  <div id=\"df-95c95843-b328-4ab9-b3b5-c2c99731cbb6\">\n",
              "    <div class=\"colab-df-container\">\n",
              "      <div>\n",
              "<style scoped>\n",
              "    .dataframe tbody tr th:only-of-type {\n",
              "        vertical-align: middle;\n",
              "    }\n",
              "\n",
              "    .dataframe tbody tr th {\n",
              "        vertical-align: top;\n",
              "    }\n",
              "\n",
              "    .dataframe thead th {\n",
              "        text-align: right;\n",
              "    }\n",
              "</style>\n",
              "<table border=\"1\" class=\"dataframe\">\n",
              "  <thead>\n",
              "    <tr style=\"text-align: right;\">\n",
              "      <th></th>\n",
              "      <th>ModTime</th>\n",
              "      <th>DataSize</th>\n",
              "      <th>ModData</th>\n",
              "      <th>ModID</th>\n",
              "      <th>Function</th>\n",
              "    </tr>\n",
              "  </thead>\n",
              "  <tbody>\n",
              "    <tr>\n",
              "      <th>10658408</th>\n",
              "      <td>25.0</td>\n",
              "      <td>6.0</td>\n",
              "      <td>281410535489535</td>\n",
              "      <td>533</td>\n",
              "      <td>5</td>\n",
              "    </tr>\n",
              "    <tr>\n",
              "      <th>5628237</th>\n",
              "      <td>288.0</td>\n",
              "      <td>8.0</td>\n",
              "      <td>18307132486099927040</td>\n",
              "      <td>375</td>\n",
              "      <td>5</td>\n",
              "    </tr>\n",
              "    <tr>\n",
              "      <th>318770</th>\n",
              "      <td>138.0</td>\n",
              "      <td>8.0</td>\n",
              "      <td>18374686479890514153</td>\n",
              "      <td>386</td>\n",
              "      <td>5</td>\n",
              "    </tr>\n",
              "    <tr>\n",
              "      <th>1307844</th>\n",
              "      <td>454.0</td>\n",
              "      <td>8.0</td>\n",
              "      <td>2596667628491913744</td>\n",
              "      <td>384</td>\n",
              "      <td>5</td>\n",
              "    </tr>\n",
              "    <tr>\n",
              "      <th>2213868</th>\n",
              "      <td>414.0</td>\n",
              "      <td>6.0</td>\n",
              "      <td>281427715358719</td>\n",
              "      <td>533</td>\n",
              "      <td>5</td>\n",
              "    </tr>\n",
              "  </tbody>\n",
              "</table>\n",
              "</div>\n",
              "      <button class=\"colab-df-convert\" onclick=\"convertToInteractive('df-95c95843-b328-4ab9-b3b5-c2c99731cbb6')\"\n",
              "              title=\"Convert this dataframe to an interactive table.\"\n",
              "              style=\"display:none;\">\n",
              "        \n",
              "  <svg xmlns=\"http://www.w3.org/2000/svg\" height=\"24px\"viewBox=\"0 0 24 24\"\n",
              "       width=\"24px\">\n",
              "    <path d=\"M0 0h24v24H0V0z\" fill=\"none\"/>\n",
              "    <path d=\"M18.56 5.44l.94 2.06.94-2.06 2.06-.94-2.06-.94-.94-2.06-.94 2.06-2.06.94zm-11 1L8.5 8.5l.94-2.06 2.06-.94-2.06-.94L8.5 2.5l-.94 2.06-2.06.94zm10 10l.94 2.06.94-2.06 2.06-.94-2.06-.94-.94-2.06-.94 2.06-2.06.94z\"/><path d=\"M17.41 7.96l-1.37-1.37c-.4-.4-.92-.59-1.43-.59-.52 0-1.04.2-1.43.59L10.3 9.45l-7.72 7.72c-.78.78-.78 2.05 0 2.83L4 21.41c.39.39.9.59 1.41.59.51 0 1.02-.2 1.41-.59l7.78-7.78 2.81-2.81c.8-.78.8-2.07 0-2.86zM5.41 20L4 18.59l7.72-7.72 1.47 1.35L5.41 20z\"/>\n",
              "  </svg>\n",
              "      </button>\n",
              "      \n",
              "  <style>\n",
              "    .colab-df-container {\n",
              "      display:flex;\n",
              "      flex-wrap:wrap;\n",
              "      gap: 12px;\n",
              "    }\n",
              "\n",
              "    .colab-df-convert {\n",
              "      background-color: #E8F0FE;\n",
              "      border: none;\n",
              "      border-radius: 50%;\n",
              "      cursor: pointer;\n",
              "      display: none;\n",
              "      fill: #1967D2;\n",
              "      height: 32px;\n",
              "      padding: 0 0 0 0;\n",
              "      width: 32px;\n",
              "    }\n",
              "\n",
              "    .colab-df-convert:hover {\n",
              "      background-color: #E2EBFA;\n",
              "      box-shadow: 0px 1px 2px rgba(60, 64, 67, 0.3), 0px 1px 3px 1px rgba(60, 64, 67, 0.15);\n",
              "      fill: #174EA6;\n",
              "    }\n",
              "\n",
              "    [theme=dark] .colab-df-convert {\n",
              "      background-color: #3B4455;\n",
              "      fill: #D2E3FC;\n",
              "    }\n",
              "\n",
              "    [theme=dark] .colab-df-convert:hover {\n",
              "      background-color: #434B5C;\n",
              "      box-shadow: 0px 1px 3px 1px rgba(0, 0, 0, 0.15);\n",
              "      filter: drop-shadow(0px 1px 2px rgba(0, 0, 0, 0.3));\n",
              "      fill: #FFFFFF;\n",
              "    }\n",
              "  </style>\n",
              "\n",
              "      <script>\n",
              "        const buttonEl =\n",
              "          document.querySelector('#df-95c95843-b328-4ab9-b3b5-c2c99731cbb6 button.colab-df-convert');\n",
              "        buttonEl.style.display =\n",
              "          google.colab.kernel.accessAllowed ? 'block' : 'none';\n",
              "\n",
              "        async function convertToInteractive(key) {\n",
              "          const element = document.querySelector('#df-95c95843-b328-4ab9-b3b5-c2c99731cbb6');\n",
              "          const dataTable =\n",
              "            await google.colab.kernel.invokeFunction('convertToInteractive',\n",
              "                                                     [key], {});\n",
              "          if (!dataTable) return;\n",
              "\n",
              "          const docLinkHtml = 'Like what you see? Visit the ' +\n",
              "            '<a target=\"_blank\" href=https://colab.research.google.com/notebooks/data_table.ipynb>data table notebook</a>'\n",
              "            + ' to learn more about interactive tables.';\n",
              "          element.innerHTML = '';\n",
              "          dataTable['output_type'] = 'display_data';\n",
              "          await google.colab.output.renderOutput(dataTable, element);\n",
              "          const docLink = document.createElement('div');\n",
              "          docLink.innerHTML = docLinkHtml;\n",
              "          element.appendChild(docLink);\n",
              "        }\n",
              "      </script>\n",
              "    </div>\n",
              "  </div>\n",
              "  "
            ],
            "text/plain": [
              "          ModTime  DataSize               ModData  ModID  Function\n",
              "10658408     25.0       6.0       281410535489535    533         5\n",
              "5628237     288.0       8.0  18307132486099927040    375         5\n",
              "318770      138.0       8.0  18374686479890514153    386         5\n",
              "1307844     454.0       8.0   2596667628491913744    384         5\n",
              "2213868     414.0       6.0       281427715358719    533         5"
            ]
          },
          "metadata": {},
          "execution_count": 44
        }
      ]
    },
    {
      "cell_type": "markdown",
      "source": [
        "# Perform Standard Scaling for Input to kNN Model"
      ],
      "metadata": {
        "id": "X5zywV0mP9kg"
      }
    },
    {
      "cell_type": "code",
      "execution_count": null,
      "metadata": {
        "id": "H1VlRlTHIuIt"
      },
      "outputs": [],
      "source": [
        "from sklearn.preprocessing import StandardScaler\n",
        "\n",
        "#Scaling Features for kNN \n",
        "\n",
        "scaler_object = StandardScaler()\n",
        "scaled_temp = scaler_object.fit(dataset_balanced[['ModTime', 'DataSize', 'ModData']])\n",
        "scaled_df = scaled_temp.transform(dataset_balanced[['ModTime', 'DataSize', 'ModData']])"
      ]
    },
    {
      "cell_type": "markdown",
      "source": [
        "# Train and Test kNN"
      ],
      "metadata": {
        "id": "8MdXXWldQNsU"
      }
    },
    {
      "cell_type": "code",
      "execution_count": null,
      "metadata": {
        "colab": {
          "base_uri": "https://localhost:8080/"
        },
        "id": "JqssyMgxIuIy",
        "outputId": "5c3e9219-a347-422a-bf40-c8bc38b768a2"
      },
      "outputs": [
        {
          "output_type": "stream",
          "name": "stdout",
          "text": [
            "Accuracy: 95.47777777777777\n",
            "MCC Score: 0.9462665100541853\n",
            "\n",
            "Train time KNN (81000)Samples): 0.1840803623199463\n",
            "\n",
            "Test time KNN (18000) Samples): 3.278258800506592\n"
          ]
        }
      ],
      "source": [
        "#INSERT your parameters for kNN below\n",
        "\n",
        "knn = KNeighborsClassifier(n_neighbors=2)\n",
        "\n",
        "#MODIFY training/test split\n",
        "\n",
        "X_train, X_test, y_train, y_test = train_test_split(scaled_df, dataset_balanced['Function'], train_size=0.75)\n",
        "\n",
        "train_startTime = time.time()\n",
        "knn = knn.fit(X_train, y_train)\n",
        "train_endTime = time.time()\n",
        "\n",
        "test_startTime = time.time()\n",
        "knn_predicted = knn.predict(X_test)\n",
        "test_endTime = time.time()\n",
        "\n",
        "knn_accuracy_score = accuracy_score(y_test, knn_predicted)\n",
        "knn_accuracy_score = knn_accuracy_score * 100\n",
        "\n",
        "knn_mcc_score = matthews_corrcoef(y_test, knn_predicted)\n",
        "\n",
        "#Computing Accuracy\n",
        "print(\"Accuracy: {}\".format(knn_accuracy_score))\n",
        "\n",
        "#Computing MCC\n",
        "print(\"MCC Score: {}\".format(knn_mcc_score))\n",
        "\n",
        "#Computing train and test times\n",
        "print(\"\\nTrain time KNN ({})Samples): {}\".format(int(0.6 * len(X_train)), train_endTime - train_startTime))\n",
        "\n",
        "print(\"\\nTest time KNN ({}) Samples): {}\".format(int(0.4 * len(y_test)), test_endTime - test_startTime))\n"
      ]
    },
    {
      "cell_type": "markdown",
      "source": [
        "# Train and Test Decision Tree"
      ],
      "metadata": {
        "id": "WkCMr23UQTxS"
      }
    },
    {
      "cell_type": "code",
      "execution_count": null,
      "metadata": {
        "scrolled": false,
        "colab": {
          "base_uri": "https://localhost:8080/"
        },
        "id": "tA8vid8bIuIt",
        "outputId": "e97340c4-3aca-41c6-afc9-e8e1b9dad21e"
      },
      "outputs": [
        {
          "output_type": "stream",
          "name": "stdout",
          "text": [
            "Accuracy: 83.45401011092387\n",
            "MCC Score: 0.8130042682026387\n",
            "\n",
            "Train time DT(108000 Samples): 0.18101215362548828\n",
            "\n",
            "Test time DT (72000 Samples): 0.0055429935455322266\n"
          ]
        }
      ],
      "source": [
        "dataset_np = dataset_balanced.to_numpy(float)\n",
        "\n",
        "dataset.head()\n",
        "\n",
        "X = dataset_np[0:, 0:3]\n",
        "y = dataset_np[0:, 4]\n",
        "\n",
        "\n",
        "#INSERT your parameters for Decision Tree below\n",
        "\n",
        "DT_classifier = tree.DecisionTreeClassifier(max_depth=5)\n",
        "\n",
        "#MODIFY training/test split\n",
        "\n",
        "X_train, X_test, y_train, y_test = train_test_split(X, y, train_size=0.7)\n",
        "\n",
        "#Training\n",
        "train_startTime = time.time()\n",
        "DT_classifier = DT_classifier.fit(X_train, y_train)\n",
        "train_endTime = time.time()\n",
        "\n",
        "#Inference\n",
        "test_startTime = time.time()\n",
        "DT_classifier_predicted = DT_classifier.predict(X_test)\n",
        "test_endTime = time.time()\n",
        "\n",
        "dt_accuracy_score = accuracy_score(y_test, DT_classifier_predicted)\n",
        "dt_accuracy_score = dt_accuracy_score  * 100\n",
        "\n",
        "dt_mcc_score = matthews_corrcoef(y_test, DT_classifier_predicted)\n",
        "\n",
        "#Computing accuracy\n",
        "print(\"Accuracy: {}\".format(dt_accuracy_score))\n",
        "\n",
        "#Computing MCC\n",
        "print(\"MCC Score: {}\".format(dt_mcc_score))\n",
        "\n",
        "#Computing train and test times\n",
        "print(\"\\nTrain time DT({} Samples): {}\".format(int(0.6 * len(X)), train_endTime - train_startTime))\n",
        "\n",
        "print(\"\\nTest time DT ({} Samples): {}\".format(int(0.4 * len(X)), test_endTime - test_startTime))\n"
      ]
    },
    {
      "cell_type": "markdown",
      "source": [
        "# Train and Test Gaussian Naive Bayes (GNB)"
      ],
      "metadata": {
        "id": "SfnDZrQIQY0e"
      }
    },
    {
      "cell_type": "code",
      "execution_count": null,
      "metadata": {
        "id": "Fnr00fjTIuIx"
      },
      "outputs": [],
      "source": [
        "dataset_np = dataset_balanced.to_numpy(float)\n",
        "\n",
        "dataset.head()\n",
        "\n",
        "X = dataset_np[0:, 0:3]\n",
        "y = dataset_np[0:, 4]\n",
        "\n",
        "#MODIFY the parameter for GNB below\n",
        "\n",
        "gnb = GaussianNB(var_smoothing=1e+3)\n",
        "\n",
        "#MODIFY training/test split\n",
        "\n",
        "X_train, X_test, y_train, y_test = train_test_split(X, y, train_size=0.8)\n",
        "\n",
        "#Training\n",
        "train_startTime = time.time()\n",
        "gnb.fit(X_train, y_train)\n",
        "train_endTime = time.time()\n",
        "\n",
        "#Inference\n",
        "test_startTime = time.time()\n",
        "gnb_predicted = gnb.predict(X_test)\n",
        "test_endTime = time.time()\n",
        "\n",
        "#Computing accuracy\n",
        "\n",
        "gnb_accuracy_score = accuracy_score(y_test, gnb_predicted)\n",
        "gnb_accuracy_score = gnb_accuracy_score * 100\n",
        "\n",
        "#Computing MCC\n",
        "gnb_mcc_score = matthews_corrcoef(y_test, gnb_predicted)\n",
        "\n",
        "plt.xlabel(\"Predicted Label\")\n",
        "plt.ylabel(\"True Label\")\n",
        "\n",
        "#Computing Accuracy\n",
        "print(\"Accuracy: {}\".format(gnb_accuracy_score))\n",
        "\n",
        "#Computing MCC\n",
        "print(\"MCC Score: {}\".format(gnb_mcc_score))\n",
        "\n",
        "#Computing train and test times\n",
        "\n",
        "print(\"\\nTrain time GNB({} Samples): {}\".format(int(0.6 * len(X)), train_endTime - train_startTime))\n",
        "\n",
        "print(\"\\nTest time GNB ({} Samples): {}\".format(int(0.4 * len(X)), test_endTime - test_startTime))"
      ]
    },
    {
      "cell_type": "markdown",
      "source": [
        "# Graphing Your Results"
      ],
      "metadata": {
        "id": "AHAXmbBzQkFM"
      }
    },
    {
      "cell_type": "code",
      "execution_count": null,
      "metadata": {
        "id": "wasKVCkfIuI0"
      },
      "outputs": [],
      "source": [
        "acc_dict = {\"Decision Tree\":[dt_accuracy_score], \"Gaussian NB\":[gnb_accuracy_score], \"KNN\":[knn_accuracy_score]}\n",
        "\n",
        "models_pred = pd.DataFrame(data = acc_dict)\n",
        "\n",
        "plt.figure(figsize=(15, 10))\n",
        "barplot_acc = sns.barplot(data = models_pred, palette=\"flare\")\n",
        "barplot_acc.set(title=\"Classifer Performance in ECU Identification\", xlabel=\"Classifier\", ylabel=\"Accuracy\")"
      ]
    },
    {
      "cell_type": "code",
      "execution_count": null,
      "metadata": {
        "id": "7glhMbZMIuI3"
      },
      "outputs": [],
      "source": [
        "mcc_dict = {\"Decision Tree\":[dt_mcc_score], \"Gaussian NB\":[gnb_mcc_score], \"KNN\":[knn_mcc_score]}\n",
        "models_pred = pd.DataFrame(data = mcc_dict)\n",
        "\n",
        "plt.figure(figsize=(15, 10))\n",
        "barplot_mcc = sns.barplot(data = models_pred, palette=\"light:#27A8\")\n",
        "barplot_mcc.set(title=\"Classifer Performance in ECU Identification\", xlabel=\"Classifier\", ylabel=\"Matthews Correlation Coefficient\")"
      ]
    }
  ],
  "metadata": {
    "colab": {
      "collapsed_sections": [],
      "name": "ECU Classification.ipynb",
      "provenance": []
    },
    "kernelspec": {
      "display_name": "Python 3",
      "language": "python",
      "name": "python3"
    },
    "language_info": {
      "codemirror_mode": {
        "name": "ipython",
        "version": 3
      },
      "file_extension": ".py",
      "mimetype": "text/x-python",
      "name": "python",
      "nbconvert_exporter": "python",
      "pygments_lexer": "ipython3",
      "version": "3.9.2"
    }
  },
  "nbformat": 4,
  "nbformat_minor": 0
}